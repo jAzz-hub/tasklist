{
 "metadata": {
  "language_info": {
   "codemirror_mode": {
    "name": "ipython",
    "version": 3
   },
   "file_extension": ".py",
   "mimetype": "text/x-python",
   "name": "python",
   "nbconvert_exporter": "python",
   "pygments_lexer": "ipython3",
   "version": "3.9.0-final"
  },
  "orig_nbformat": 2,
  "kernelspec": {
   "name": "python3",
   "display_name": "Python 3.9.0 64-bit",
   "metadata": {
    "interpreter": {
     "hash": "9de63be73b8f535ddb931d2445c9011cfdb15b481a031a5451513510480acf59"
    }
   }
  }
 },
 "nbformat": 4,
 "nbformat_minor": 2,
 "cells": [
  {
   "source": [
    "import pandas as pd\n",
    "\n",
    "heroes = pd.read_csv('C:/Users/joaog/Desktop/Data_Study/data_dota_p/dota_heroes728.csv')\n",
    "\n",
    "heroes.head()"
   ],
   "cell_type": "code",
   "metadata": {},
   "execution_count": 5,
   "outputs": [
    {
     "output_type": "execute_result",
     "data": {
      "text/plain": [
       "          Hero  Strength   Agility Intelligence  Health_base  Health_lvl1  \\\n",
       "0      Abaddon    23 + 3  23 + 1.5       18 + 2          200          660   \n",
       "1    Alchemist  25 + 2.7  22 + 1.5     25 + 1.8          200          700   \n",
       "2          Axe  25 + 3.4  20 + 2.2     18 + 1.6          200          700   \n",
       "3  Beastmaster  23 + 2.9  18 + 1.6     16 + 1.9          200          660   \n",
       "4   Brewmaster  23 + 3.7    19 + 2     15 + 1.6          200          660   \n",
       "\n",
       "   Health_lvl15  Health_lvl25  Health_lvl30  Health regen_base  ...  \\\n",
       "0          1500          2100          2400               0.50  ...   \n",
       "1          1440          1980          2260               0.00  ...   \n",
       "2          1640          2320          2660               2.75  ...   \n",
       "3          1460          2040          2340               0.00  ...   \n",
       "4          1680          2420          2800               0.50  ...   \n",
       "\n",
       "   Turn rate  Vision range  Attack range  Projectile speed  Attack animation  \\\n",
       "0        0.5      1800/800           150           Instant         0.56+0.41   \n",
       "1        0.6      1800/800           150           Instant         0.35+0.65   \n",
       "2        0.6      1800/800           150           Instant           0.5+0.5   \n",
       "3        0.5      1800/800           150           Instant           0.3+0.7   \n",
       "4        0.6      1800/800           150           Instant         0.35+0.65   \n",
       "\n",
       "   Base attack time  Damage block  Collision size  Legs  Gib type  \n",
       "0               1.7             8              24     2  Ethereal  \n",
       "1               1.7             8              24     2   Default  \n",
       "2               1.7             8              24     2   Default  \n",
       "3               1.7             8              24     2   Default  \n",
       "4               1.7             8              24     2   Default  \n",
       "\n",
       "[5 rows x 52 columns]"
      ],
      "text/html": "<div>\n<style scoped>\n    .dataframe tbody tr th:only-of-type {\n        vertical-align: middle;\n    }\n\n    .dataframe tbody tr th {\n        vertical-align: top;\n    }\n\n    .dataframe thead th {\n        text-align: right;\n    }\n</style>\n<table border=\"1\" class=\"dataframe\">\n  <thead>\n    <tr style=\"text-align: right;\">\n      <th></th>\n      <th>Hero</th>\n      <th>Strength</th>\n      <th>Agility</th>\n      <th>Intelligence</th>\n      <th>Health_base</th>\n      <th>Health_lvl1</th>\n      <th>Health_lvl15</th>\n      <th>Health_lvl25</th>\n      <th>Health_lvl30</th>\n      <th>Health regen_base</th>\n      <th>...</th>\n      <th>Turn rate</th>\n      <th>Vision range</th>\n      <th>Attack range</th>\n      <th>Projectile speed</th>\n      <th>Attack animation</th>\n      <th>Base attack time</th>\n      <th>Damage block</th>\n      <th>Collision size</th>\n      <th>Legs</th>\n      <th>Gib type</th>\n    </tr>\n  </thead>\n  <tbody>\n    <tr>\n      <th>0</th>\n      <td>Abaddon</td>\n      <td>23 + 3</td>\n      <td>23 + 1.5</td>\n      <td>18 + 2</td>\n      <td>200</td>\n      <td>660</td>\n      <td>1500</td>\n      <td>2100</td>\n      <td>2400</td>\n      <td>0.50</td>\n      <td>...</td>\n      <td>0.5</td>\n      <td>1800/800</td>\n      <td>150</td>\n      <td>Instant</td>\n      <td>0.56+0.41</td>\n      <td>1.7</td>\n      <td>8</td>\n      <td>24</td>\n      <td>2</td>\n      <td>Ethereal</td>\n    </tr>\n    <tr>\n      <th>1</th>\n      <td>Alchemist</td>\n      <td>25 + 2.7</td>\n      <td>22 + 1.5</td>\n      <td>25 + 1.8</td>\n      <td>200</td>\n      <td>700</td>\n      <td>1440</td>\n      <td>1980</td>\n      <td>2260</td>\n      <td>0.00</td>\n      <td>...</td>\n      <td>0.6</td>\n      <td>1800/800</td>\n      <td>150</td>\n      <td>Instant</td>\n      <td>0.35+0.65</td>\n      <td>1.7</td>\n      <td>8</td>\n      <td>24</td>\n      <td>2</td>\n      <td>Default</td>\n    </tr>\n    <tr>\n      <th>2</th>\n      <td>Axe</td>\n      <td>25 + 3.4</td>\n      <td>20 + 2.2</td>\n      <td>18 + 1.6</td>\n      <td>200</td>\n      <td>700</td>\n      <td>1640</td>\n      <td>2320</td>\n      <td>2660</td>\n      <td>2.75</td>\n      <td>...</td>\n      <td>0.6</td>\n      <td>1800/800</td>\n      <td>150</td>\n      <td>Instant</td>\n      <td>0.5+0.5</td>\n      <td>1.7</td>\n      <td>8</td>\n      <td>24</td>\n      <td>2</td>\n      <td>Default</td>\n    </tr>\n    <tr>\n      <th>3</th>\n      <td>Beastmaster</td>\n      <td>23 + 2.9</td>\n      <td>18 + 1.6</td>\n      <td>16 + 1.9</td>\n      <td>200</td>\n      <td>660</td>\n      <td>1460</td>\n      <td>2040</td>\n      <td>2340</td>\n      <td>0.00</td>\n      <td>...</td>\n      <td>0.5</td>\n      <td>1800/800</td>\n      <td>150</td>\n      <td>Instant</td>\n      <td>0.3+0.7</td>\n      <td>1.7</td>\n      <td>8</td>\n      <td>24</td>\n      <td>2</td>\n      <td>Default</td>\n    </tr>\n    <tr>\n      <th>4</th>\n      <td>Brewmaster</td>\n      <td>23 + 3.7</td>\n      <td>19 + 2</td>\n      <td>15 + 1.6</td>\n      <td>200</td>\n      <td>660</td>\n      <td>1680</td>\n      <td>2420</td>\n      <td>2800</td>\n      <td>0.50</td>\n      <td>...</td>\n      <td>0.6</td>\n      <td>1800/800</td>\n      <td>150</td>\n      <td>Instant</td>\n      <td>0.35+0.65</td>\n      <td>1.7</td>\n      <td>8</td>\n      <td>24</td>\n      <td>2</td>\n      <td>Default</td>\n    </tr>\n  </tbody>\n</table>\n<p>5 rows × 52 columns</p>\n</div>"
     },
     "metadata": {},
     "execution_count": 5
    }
   ]
  },
  {
   "cell_type": "code",
   "execution_count": 44,
   "metadata": {
    "tags": []
   },
   "outputs": [
    {
     "output_type": "stream",
     "name": "stdout",
     "text": [
      "        Heroes       Itl       Frc       Agl\n0      Abaddon    18 + 2    23 + 3  23 + 1.5\n1    Alchemist  25 + 1.8  25 + 2.7  22 + 1.5\n2          Axe  18 + 1.6  25 + 3.4  20 + 2.2\n3  Beastmaster  16 + 1.9  23 + 2.9  18 + 1.6\n4   Brewmaster  15 + 1.6  23 + 3.7    19 + 2\n            Heroes Força Agilidade Inteligência\n0          Abaddon    23        23           18\n1        Alchemist    25        22           25\n2              Axe    25        20           18\n3      Beastmaster    23        18           16\n4       Brewmaster    23        19           15\n..             ...   ...       ...          ...\n115        Warlock    26        10           25\n116     Windranger    18        17           18\n117  Winter_Wyvern    24        16           26\n118   Witch_Doctor    18        13           22\n119           Zeus    19        11           22\n\n[120 rows x 4 columns]\n"
     ]
    }
   ],
   "source": [
    "import numpy as np\n",
    "\n",
    "In = heroes['Intelligence']\n",
    "\n",
    "Ag = heroes['Agility']\n",
    "\n",
    "Fr = heroes['Strength']\n",
    "\n",
    "Hr = heroes['Hero']\n",
    "\n",
    "\n",
    "Atributes = pd.DataFrame({'Heroes':Hr,'Itl':In,'Frc':Fr,'Agl':Ag})\n",
    "print(Atributes.head())\n",
    "\n",
    "\n",
    "def removendo(Data_F):\n",
    "    lista2=[]\n",
    "    \n",
    "    import numpy as np\n",
    "\n",
    "    #cab = Data_F.head()\n",
    "\n",
    "    M = np.array(Data_F)\n",
    "\n",
    "\n",
    "    lista = [i for i in M]\n",
    "\n",
    "    #print(lista)\n",
    "\n",
    "    for i,v in enumerate(lista):\n",
    "        r=v[:2]\n",
    "        lista2.append(r)\n",
    "\n",
    "    \n",
    "    return lista2\n",
    "    \n",
    "\n",
    "\n",
    "#H = Hr.head()\n",
    "\n",
    "F = removendo(Fr)\n",
    "\n",
    "A = removendo(Ag)\n",
    "\n",
    "I = removendo(In)\n",
    "\n",
    "\n",
    "\n",
    "R =  pd.DataFrame({'Heroes':Hr, 'Força':F, 'Agilidade':A, 'Inteligência':I})\n",
    "\n",
    "print(R)\n",
    "\n"
   ]
  },
  {
   "cell_type": "code",
   "execution_count": null,
   "metadata": {},
   "outputs": [],
   "source": []
  }
 ]
}